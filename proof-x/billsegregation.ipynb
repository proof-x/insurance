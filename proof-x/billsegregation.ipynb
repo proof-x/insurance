{
 "cells": [
  {
   "cell_type": "code",
   "execution_count": 1,
   "metadata": {},
   "outputs": [
    {
     "name": "stdout",
     "output_type": "stream",
     "text": [
      "File not found: d2eb0f88-2221-476f-a36a-d0123a69189d.jpg\n"
     ]
    }
   ],
   "source": [
    "#this code is FOR ROTATING THE IMAGE\n",
    "\n",
    "from PIL import Image\n",
    "import os\n",
    "\n",
    "def rotate_image(image_path, output_path, angle):\n",
    "    try:\n",
    " \n",
    "        with Image.open(image_path) as img:\n",
    "            rotated_img = img.rotate(angle, expand=True)\n",
    "            rotated_img.save(output_path)\n",
    "            print(f\"Image rotated and saved to {output_path}\")\n",
    "    except FileNotFoundError:\n",
    "        print(f\"File not found: {image_path}\")\n",
    "    except Exception as e:\n",
    "        print(f\"An error occurred: {e}\")\n",
    "\n",
    "# \n",
    "input_image = \"d2eb0f88-2221-476f-a36a-d0123a69189d.jpg\"  # Path to the input image\n",
    "output_image = \"rotated_example.jpg\"  # Path to save the rotated image\n",
    "rotation_angle = 270  # Angle in degrees (e.g., 90, 180, 270)\n",
    "\n",
    "rotate_image(input_image, output_image, rotation_angle)\n"
   ]
  },
  {
   "cell_type": "code",
   "execution_count": 35,
   "metadata": {},
   "outputs": [],
   "source": [
    "#THIS FUNCTION TAKE MOVE FILE TO THEIR FOLDER\n",
    "import os\n",
    "import shutil\n",
    "\n",
    "def move_file(src_path, dest_folder):\n",
    "    try:\n",
    "        os.makedirs(dest_folder, exist_ok=True)\n",
    "        \n",
    "        dest_path = os.path.join(dest_folder, os.path.basename(src_path))\n",
    "        \n",
    "        shutil.move(src_path, dest_path)\n",
    "        \n",
    "        print(f\"File moved successfully to {dest_path}\")\n",
    "    except FileNotFoundError:\n",
    "        print(f\"Source file not found: {src_path}\")\n",
    "    except Exception as e:\n",
    "        print(f\"An error occurred: {e}\")\n"
   ]
  },
  {
   "cell_type": "code",
   "execution_count": 45,
   "metadata": {},
   "outputs": [],
   "source": [
    "from doctr.io import DocumentFile\n",
    "# PDF\n",
    "# pdf_doc = DocumentFile.from_pdf(\"path/to/your/doc.pdf\")\n",
    "imgpdf_path=r\"nishant invoice\\9ef068fa-0917-489d-ad0d-7024d2aed5ec.jpg\"\n",
    "single_img_doc = DocumentFile.from_images(imgpdf_path)\n",
    "# Webpage (requires `weasyprint` to be installed)\n",
    "# webpage_doc = DocumentFile.from_url(\"https://www.yoursite.com\")\n",
    "# # Multiple page images\n",
    "# multi_img_doc = DocumentFile.from_images([\"path/to/page1.jpg\", \"path/to/page2.jpg\"])"
   ]
  },
  {
   "cell_type": "code",
   "execution_count": 46,
   "metadata": {},
   "outputs": [],
   "source": [
    "from doctr.models import ocr_predictor\n",
    "\n",
    "import pandas as pd\n",
    "\n",
    "model = ocr_predictor(pretrained=True)\n",
    "\n",
    "doc = single_img_doc\n",
    "\n",
    "result = model(doc)\n"
   ]
  },
  {
   "cell_type": "code",
   "execution_count": 47,
   "metadata": {},
   "outputs": [
    {
     "name": "stdout",
     "output_type": "stream",
     "text": [
      "Poetry \n",
      "Poetry by \n",
      "Poetry by Love \n",
      "Poetry by Love & \n",
      "Poetry by Love & Cheesecal \n",
      "Maheshwari \n",
      "Maheshwari Udyan, \n",
      "Maheshwari Udyan, Shop \n",
      "Maheshwari Udyan, Shop No \n",
      "Maheshwari Udyan, Shop No 5, \n",
      "Maheshwari Udyan, Shop No 5, Ground \n",
      "Maheshwari Udyan, Shop No 5, Ground Floo \n",
      "Vora \n",
      "Vora Bhavan, \n",
      "Vora Bhavan, Dr \n",
      "Vora Bhavan, Dr Baba \n",
      "Vora Bhavan, Dr Baba Saheb \n",
      "Vora Bhavan, Dr Baba Saheb Ambedkar \n",
      "Vora Bhavan, Dr Baba Saheb Ambedkar Rd, \n",
      "Matunga \n",
      "Matunga East, \n",
      "Matunga East, Mumbai, \n",
      "Matunga East, Mumbai, Maharashtra \n",
      "Matunga East, Mumbai, Maharashtra 40001 \n",
      "GSTIN: \n",
      "GSTIN: 27AAECB4150H1ZW \n",
      "Type:Dine \n",
      "Type:Dine In \n",
      "Table \n",
      "Table Number: \n",
      "Table Number: 2 \n",
      "Bill \n",
      "Bill No.:2705 \n",
      "Steward: \n",
      "Print \n",
      "Print Useribrewworks \n",
      "Print Useribrewworks poetry \n",
      "Print Useribrewworks poetry aatunga \n",
      "Date:2023-04-02 \n",
      "Date:2023-04-02 19:25:08 \n",
      "Kots:52 \n",
      "Covers:5 \n",
      "Item \n",
      "Qty \n",
      "Rate \n",
      "Amt \n",
      "BROWNIE \n",
      "BROWNIE & \n",
      "NUTELLA \n",
      "MILKSHAKE \n",
      "1 \n",
      "240.00 \n",
      "240.00 \n",
      "VERY \n",
      "VERY BERRY \n",
      "SMOOTHIE \n",
      "1 \n",
      "230.00 \n",
      "230.00 \n",
      "VEG \n",
      "VEG CLUB \n",
      "SANDWICH \n",
      "1 \n",
      "380.00 \n",
      "380.00 \n",
      "850.00 \n",
      "SubTotal: \n",
      "42.50 \n",
      "GST@5% \n",
      "CGST \n",
      "CGST @2.5% \n",
      "21.25 \n",
      "SGST \n",
      "SGST @2.5% \n",
      "21.25 \n",
      "0.50 \n",
      "Round \n",
      "Round Off: \n",
      "893 \n",
      "Total \n",
      "Total Invoice \n",
      "Total Invoice Value: \n",
      "PAY:893 \n",
      "Thank \n",
      "Thank you, \n",
      "Thank you, visit \n",
      "Thank you, visit again! \n",
      "Powered \n",
      "Powered by \n",
      "Powered by - \n",
      "Powered by - POSIST \n"
     ]
    }
   ],
   "source": [
    "#THIS STORE EXTRACTED DATA INTO VARIABLE\n",
    "data=[]\n",
    "invoice_data=\" \"\n",
    "for page in result.pages:\n",
    "   \n",
    "    for block in page.blocks:\n",
    "        for line in block.lines:\n",
    "            line1=\"\"\n",
    "            for word in line.words:\n",
    "                text = word.value\n",
    "                coordinates = word.geometry  \n",
    "                x_min=coordinates[0][0]\n",
    "                x_max=coordinates[1][0]\n",
    "                y_min=coordinates[0][1]\n",
    "                y_max=coordinates[1][1]\n",
    "\n",
    "                data.append({\n",
    "                    \"text\": text,\n",
    "                    \"x_min\": x_min,\n",
    "                    \"x_max\": x_max,\n",
    "                    \"y_min\": y_min,\n",
    "                    \"y_max\": y_max\n",
    "                })\n",
    "                line1+=text+\" \"\n",
    "      \n",
    "            invoice_data+=line1+\" \"\n",
    "\n"
   ]
  },
  {
   "cell_type": "code",
   "execution_count": 48,
   "metadata": {},
   "outputs": [],
   "source": [
    "from ibm_watsonx_ai.foundation_models import Model\n",
    "from ibm_watsonx_ai.foundation_models.utils.enums import ModelTypes\n",
    "import json\n",
    "import requests\n",
    "import time\n",
    "import base64\n",
    "\n",
    "import warnings\n",
    "import os\n",
    "warnings.filterwarnings('ignore')"
   ]
  },
  {
   "cell_type": "code",
   "execution_count": 49,
   "metadata": {},
   "outputs": [],
   "source": [
    "\n",
    "with open(r\"creds.json\", 'r') as f:\n",
    "    watsonx_cred = json.load(f)"
   ]
  },
  {
   "cell_type": "code",
   "execution_count": 50,
   "metadata": {},
   "outputs": [
    {
     "name": "stderr",
     "output_type": "stream",
     "text": [
      "c:\\Users\\rafey\\OneDrive - Veracitiz Solutions Pvt Ltd\\Desktop\\proof-x\\.venv\\Lib\\site-packages\\ibm_watsonx_ai\\foundation_models\\model.py:101: DeprecationWarning: The `Model` class is deprecated and will be removed in a future release. Please use the `ModelInference` class instead. To update your imports, use: `from ibm_watsonx_ai.foundation_models import ModelInference`.\n",
      "  warn(\n"
     ]
    }
   ],
   "source": [
    "model = Model(\n",
    "    model_id=watsonx_cred['model_id'],\n",
    "    params=watsonx_cred['params'],\n",
    "    credentials=watsonx_cred['credentials'],\n",
    "    project_id=watsonx_cred['project_id'],\n",
    "    space_id=None\n",
    ")"
   ]
  },
  {
   "cell_type": "code",
   "execution_count": 51,
   "metadata": {},
   "outputs": [],
   "source": [
    "\n",
    "prompt = \"\"\"Task: Categorize and Organize Invoices\n",
    "\n",
    "You are provided with extracted invoice data, which contains details such as the bill description, amount, and other relevant information. Your goal is to process this data and:\n",
    "\n",
    "Categorize the Bill\n",
    "Assign each invoice to one of the following predefined categories based on the bill description:\n",
    "\n",
    "Healthcare\n",
    "Shopping\n",
    "Utilities\n",
    "Food\n",
    "Travel\n",
    "Miscellaneous (use this if no specific category fits the bill).\n",
    "Generate a JSON File\n",
    "Extract and store key details from the invoice, including:\n",
    "\n",
    "Date: The date of the invoice.\n",
    "Category: The assigned category of the bill.\n",
    "Summary: A brief summary of the bill description.\n",
    "Bill Amount: The total amount of the bill.\n",
    "\n",
    "** invoices_data **\n",
    "\n",
    "Input:\n",
    "The extracted invoice data.\n",
    "\n",
    "Output (Example):\n",
    "\n",
    "{\n",
    "  \"date\": \"\",\n",
    "  \"category\": \"\",\n",
    "  \"summary\": \"\",\n",
    "  \"bill_amount\": \"\"\n",
    "}\n",
    "\n",
    "<endofcode>\n",
    "Note: Only return the JSON output in your response\"\"\"\n",
    "\n",
    "prompt=prompt.replace(\"invoices_data\",invoice_data)\n",
    "llm_output1=model.generate(prompt=prompt)\n",
    "\n",
    "    \n",
    "\n"
   ]
  },
  {
   "cell_type": "code",
   "execution_count": 52,
   "metadata": {},
   "outputs": [
    {
     "name": "stdout",
     "output_type": "stream",
     "text": [
      ". Do not include any additional text or explanations. \n",
      "\n",
      "```json\n",
      "{\n",
      "  \"date\": \"2023-04-02\",\n",
      "  \"category\": \"Food\",\n",
      "  \"summary\": \"Dine-in at Poetry by Love & Cheesecal\",\n",
      "  \"bill_amount\": 893\n",
      "}\n",
      "```\n"
     ]
    }
   ],
   "source": [
    "generated_response=llm_output1['results'][0]['generated_text'].replace(\"<endofcode>\",\"\")\n",
    "print(generated_response)\n"
   ]
  },
  {
   "cell_type": "code",
   "execution_count": 32,
   "metadata": {},
   "outputs": [
    {
     "name": "stdout",
     "output_type": "stream",
     "text": [
      "File moved successfully to food\\cff4ad7c-d7c3-43d3-b54a-2d9163d1903b.jpg\n",
      "JSON data saved successfully: [{'date': '01/01/23', 'category': 'Food', 'summary': 'Restaurant bill for various food items', 'bill_amount': '3806.00'}, {'date': '', 'category': '', 'summary': '', 'bill_amount': ''}, {'date': '', 'category': 'Food', 'summary': 'Coorg Idli', 'bill_amount': 751.0}]\n"
     ]
    }
   ],
   "source": [
    "#HERE WE ARE MOVING FILE  AND STORING DATA  INTO JSON FILE\n",
    "import json\n",
    "data_string =generated_response\n",
    "try:\n",
    "    start = data_string.index('{')\n",
    "    end = data_string.rindex('}') + 1\n",
    "    json_string = data_string[start:end]\n",
    "\n",
    "    json_data = json.loads(json_string)\n",
    "    \n",
    "    cat=json_data['category'].lower()\n",
    "\n",
    "    with open('output.json', 'r') as file:\n",
    "        data = json.load(file)\n",
    "\n",
    "        data.append(json_data)\n",
    "\n",
    "    move_file(imgpdf_path,cat)\n",
    "    with open(\"output.json\",\"w\") as json_file:\n",
    "        json.dump(data, json_file, indent=4)\n",
    "    print(\"JSON data saved successfully:\", data)\n",
    "except Exception as e:\n",
    "    print(\"No valid JSON f ound in the string.\",e)\n"
   ]
  },
  {
   "cell_type": "code",
   "execution_count": null,
   "metadata": {},
   "outputs": [],
   "source": [
    "\n"
   ]
  },
  {
   "cell_type": "code",
   "execution_count": null,
   "metadata": {},
   "outputs": [],
   "source": []
  }
 ],
 "metadata": {
  "kernelspec": {
   "display_name": ".venv",
   "language": "python",
   "name": "python3"
  },
  "language_info": {
   "codemirror_mode": {
    "name": "ipython",
    "version": 3
   },
   "file_extension": ".py",
   "mimetype": "text/x-python",
   "name": "python",
   "nbconvert_exporter": "python",
   "pygments_lexer": "ipython3",
   "version": "3.12.5"
  }
 },
 "nbformat": 4,
 "nbformat_minor": 2
}
